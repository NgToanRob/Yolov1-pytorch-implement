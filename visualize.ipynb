{
 "cells": [
  {
   "cell_type": "code",
   "execution_count": null,
   "metadata": {},
   "outputs": [],
   "source": [
    "from PIL import Image, ImageDraw\n",
    "import torchvision.transforms as transform\n",
    "from tqdm import tqdm\n",
    "import matplotlib.pyplot as plt\n",
    "import numpy as np"
   ]
  },
  {
   "cell_type": "code",
   "execution_count": null,
   "metadata": {},
   "outputs": [],
   "source": [
    "def drawBox(x, y):\n",
    "    '''\n",
    "    x, y for one example\n",
    "    x torch tensor channel first\n",
    "    \n",
    "    '''\n",
    "    \n",
    "    img = x.permute(1,2,0)\n",
    "    #plt.imshow(img)\n",
    "    #print(y.shape)\n",
    "    img = (img.numpy()*255).astype(np.uint8)\n",
    "    #print(img)\n",
    "    img = Image.fromarray(img)\n",
    "    draw = ImageDraw.Draw(img)\n",
    "    boxes = cellboxes_to_boxes(y)\n",
    "    boxes = nMS(boxes)\n",
    "    #print(boxes)\n",
    "    for box in boxes:\n",
    "        \n",
    "        x1, y1, x2, y2 = box_to_corners(box)\n",
    "        #print([(x1, y1), (x2, y2)])\n",
    "        #print(img.numpy())\n",
    "        draw.rectangle([(x1, y1), (x2, y2)], outline =\"red\", width = 5)\n",
    "    plt.imshow(img)"
   ]
  },
  {
   "cell_type": "code",
   "execution_count": null,
   "metadata": {},
   "outputs": [],
   "source": [
    "def box_to_corners(boxes):\n",
    "    #print(boxes)\n",
    "    box_minx = boxes[2] - (boxes[4]/2)\n",
    "    box_maxx = boxes[2] + (boxes[4]/2)\n",
    "    \n",
    "    box_miny = boxes[3] - (boxes[5]/2)\n",
    "    box_maxy = boxes[3] + (boxes[5]/2)\n",
    "\n",
    "    return [box_minx*448, box_miny*448, box_maxx*448, box_maxy*448]"
   ]
  },
  {
   "cell_type": "code",
   "execution_count": null,
   "metadata": {},
   "outputs": [],
   "source": [
    "w = 10\n",
    "h = 10\n",
    "fig = plt.figure(figsize=(10, 10))\n",
    "columns = 4\n",
    "rows = 4\n",
    "\n",
    "for x, y in loader:\n",
    "    \n",
    "    pred = model(x)\n",
    "    \n",
    "    for i in range(x.shape[0]):\n",
    "    \n",
    "        img = x[i].permute(1,2,0)\n",
    "        #plt.imshow(img)\n",
    "        #print(y.shape)\n",
    "        img = (img.numpy()*255).astype(np.uint8)\n",
    "        #print(img)\n",
    "        img = Image.fromarray(img)\n",
    "        draw = ImageDraw.Draw(img)\n",
    "        boxes = cellboxes_to_boxes(pred)[i]\n",
    "        boxes = nMS(boxes)\n",
    "        #print(boxes)\n",
    "        for box in boxes:\n",
    "\n",
    "            x1, y1, x2, y2 = box_to_corners(box)\n",
    "            #print([(x1, y1), (x2, y2)])\n",
    "            #print(img.numpy())\n",
    "            draw.rectangle([(x1, y1), (x2, y2)], outline =\"red\", width = 5)\n",
    "        fig.add_subplot(rows, columns, i+1)\n",
    "        plt.imshow(img)\n",
    "plt.show()"
   ]
  }
 ],
 "metadata": {
  "kernelspec": {
   "display_name": "Python 3.10.6 64-bit",
   "language": "python",
   "name": "python3"
  },
  "language_info": {
   "name": "python",
   "version": "3.10.6"
  },
  "orig_nbformat": 4,
  "vscode": {
   "interpreter": {
    "hash": "916dbcbb3f70747c44a77c7bcd40155683ae19c65e1c03b4aa3499c5328201f1"
   }
  }
 },
 "nbformat": 4,
 "nbformat_minor": 2
}
